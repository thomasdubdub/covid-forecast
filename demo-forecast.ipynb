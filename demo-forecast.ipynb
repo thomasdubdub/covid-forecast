{
 "cells": [
  {
   "cell_type": "markdown",
   "metadata": {},
   "source": [
    "# COVID-19 forecast in French departments"
   ]
  },
  {
   "cell_type": "markdown",
   "metadata": {},
   "source": [
    "#### <br> Visualize a forecast (linear growth by department) of the evolution of the COVID-19 hospitalizations in French departments"
   ]
  },
  {
   "cell_type": "code",
   "execution_count": 1,
   "metadata": {},
   "outputs": [],
   "source": [
    "%load_ext lab_black\n",
    "%matplotlib inline"
   ]
  },
  {
   "cell_type": "code",
   "execution_count": 2,
   "metadata": {},
   "outputs": [],
   "source": [
    "import requests\n",
    "import zipfile\n",
    "import io\n",
    "from datetime import timedelta, date\n",
    "import numpy as np\n",
    "import pandas as pd\n",
    "import geopandas as gpd\n",
    "from fbprophet import Prophet\n",
    "import matplotlib\n",
    "import matplotlib.pyplot as plt\n",
    "from mpl_toolkits.axes_grid1 import make_axes_locatable\n",
    "import contextily as ctx\n",
    "from PIL import Image\n",
    "import warnings\n",
    "import logging\n",
    "\n",
    "logging.getLogger(\"fbprophet\").setLevel(logging.WARNING)\n",
    "warnings.filterwarnings(\"ignore\")\n",
    "pd.plotting.register_matplotlib_converters()"
   ]
  },
  {
   "cell_type": "markdown",
   "metadata": {},
   "source": [
    "#### <br> COVID and geographical data are open data from the French open data portal data.gouv.fr"
   ]
  },
  {
   "cell_type": "code",
   "execution_count": 3,
   "metadata": {},
   "outputs": [],
   "source": [
    "url_dep = \"http://osm13.openstreetmap.fr/~cquest/openfla/export/departements-20140306-5m-shp.zip\"\n",
    "url_covid = (\n",
    "    \"https://www.data.gouv.fr/fr/datasets/r/b94ba7af-c0d6-4055-a883-61160e412115\"\n",
    ")\n",
    "filter_dep = [\"971\", \"972\", \"973\", \"974\", \"976\"]  # only metropolitan France\n",
    "nb_days = 9  # forecast horizon (days)\n",
    "figsize = (15, 15)\n",
    "tile_zoom = 7\n",
    "frame_duration = 1000  # in ms"
   ]
  },
  {
   "cell_type": "markdown",
   "metadata": {},
   "source": [
    "#### <br> Load French departements data into a GeoPandas GeoSeries"
   ]
  },
  {
   "cell_type": "code",
   "execution_count": 4,
   "metadata": {},
   "outputs": [
    {
     "name": "stderr",
     "output_type": "stream",
     "text": [
      "INFO:numexpr.utils:NumExpr defaulting to 8 threads.\n"
     ]
    }
   ],
   "source": [
    "local_path = \"tmp/\"\n",
    "r = requests.get(url_dep)\n",
    "z = zipfile.ZipFile(io.BytesIO(r.content))\n",
    "z.extractall(path=local_path)\n",
    "filenames = [\n",
    "    y\n",
    "    for y in sorted(z.namelist())\n",
    "    for ending in [\"dbf\", \"prj\", \"shp\", \"shx\"]\n",
    "    if y.endswith(ending)\n",
    "]\n",
    "dbf, prj, shp, shx = [filename for filename in filenames]\n",
    "fr = gpd.read_file(local_path + shp)  #  + encoding=\"utf-8\" if needed\n",
    "met = fr.query(\"code_insee not in @filter_dep\")\n",
    "met.set_index(\"code_insee\", inplace=True)\n",
    "met = met[\"geometry\"]"
   ]
  },
  {
   "cell_type": "markdown",
   "metadata": {},
   "source": [
    "#### <br> Load the map tile with contextily"
   ]
  },
  {
   "cell_type": "code",
   "execution_count": 5,
   "metadata": {},
   "outputs": [],
   "source": [
    "w, s, e, n = met.total_bounds\n",
    "bck, ext = ctx.bounds2img(w, s, e, n, zoom=tile_zoom, ll=True)"
   ]
  },
  {
   "cell_type": "markdown",
   "metadata": {},
   "source": [
    "#### <br> Plot function to save image at a given date (title)"
   ]
  },
  {
   "cell_type": "code",
   "execution_count": 6,
   "metadata": {},
   "outputs": [],
   "source": [
    "def save_img(df, title, img_name, vmin, vmax):\n",
    "    gdf = gpd.GeoDataFrame(df, crs={\"init\": \"epsg:4326\"})\n",
    "    gdf_3857 = gdf.to_crs(epsg=3857)  # web mercator\n",
    "    f, ax = plt.subplots(figsize=figsize)\n",
    "    ax.imshow(\n",
    "        bck, extent=ext, interpolation=\"sinc\", aspect=\"equal\"\n",
    "    )  # load background map\n",
    "    divider = make_axes_locatable(ax)\n",
    "    cax = divider.append_axes(\n",
    "        \"right\", size=\"5%\", pad=0.1\n",
    "    )  # GeoPandas trick to adjust the legend bar\n",
    "    gdf_3857.plot(\n",
    "        column=\"hosp\",  # Number of people currently hospitalized\n",
    "        ax=ax,\n",
    "        cax=cax,\n",
    "        alpha=0.75,\n",
    "        edgecolor=\"k\",\n",
    "        legend=True,\n",
    "        cmap=matplotlib.cm.get_cmap(\"magma_r\"),\n",
    "        vmin=vmin,\n",
    "        vmax=vmax,\n",
    "    )\n",
    "\n",
    "    ax.set_axis_off()\n",
    "    ax.get_xaxis().set_visible(False)\n",
    "    ax.get_yaxis().set_visible(False)\n",
    "    ax.set_title(title, fontsize=25)\n",
    "    plt.savefig(img_name, bbox_inches=\"tight\")  # pad_inches=-0.1 to remove border\n",
    "    plt.close(f)"
   ]
  },
  {
   "cell_type": "markdown",
   "metadata": {},
   "source": [
    "#### <br> Load COVID data into a pandas DataFrame"
   ]
  },
  {
   "cell_type": "code",
   "execution_count": 7,
   "metadata": {},
   "outputs": [
    {
     "data": {
      "text/html": [
       "<div>\n",
       "<style scoped>\n",
       "    .dataframe tbody tr th:only-of-type {\n",
       "        vertical-align: middle;\n",
       "    }\n",
       "\n",
       "    .dataframe tbody tr th {\n",
       "        vertical-align: top;\n",
       "    }\n",
       "\n",
       "    .dataframe thead th {\n",
       "        text-align: right;\n",
       "    }\n",
       "</style>\n",
       "<table border=\"1\" class=\"dataframe\">\n",
       "  <thead>\n",
       "    <tr style=\"text-align: right;\">\n",
       "      <th></th>\n",
       "      <th>dep</th>\n",
       "      <th>hosp</th>\n",
       "      <th>rea</th>\n",
       "      <th>rad</th>\n",
       "      <th>dc</th>\n",
       "    </tr>\n",
       "    <tr>\n",
       "      <th>jour</th>\n",
       "      <th></th>\n",
       "      <th></th>\n",
       "      <th></th>\n",
       "      <th></th>\n",
       "      <th></th>\n",
       "    </tr>\n",
       "  </thead>\n",
       "  <tbody>\n",
       "    <tr>\n",
       "      <td>2020-03-18</td>\n",
       "      <td>01</td>\n",
       "      <td>2</td>\n",
       "      <td>0</td>\n",
       "      <td>1</td>\n",
       "      <td>0</td>\n",
       "    </tr>\n",
       "    <tr>\n",
       "      <td>2020-03-18</td>\n",
       "      <td>02</td>\n",
       "      <td>41</td>\n",
       "      <td>10</td>\n",
       "      <td>18</td>\n",
       "      <td>11</td>\n",
       "    </tr>\n",
       "  </tbody>\n",
       "</table>\n",
       "</div>"
      ],
      "text/plain": [
       "           dep  hosp  rea  rad  dc\n",
       "jour                              \n",
       "2020-03-18  01     2    0    1   0\n",
       "2020-03-18  02    41   10   18  11"
      ]
     },
     "execution_count": 7,
     "metadata": {},
     "output_type": "execute_result"
    }
   ],
   "source": [
    "cov = pd.read_csv(url_covid, sep=\";\", index_col=2, parse_dates=True,)\n",
    "cov = cov.query(\"sexe == 0\")  # sum of male/female\n",
    "cov = cov.query(\"dep not in @filter_dep\")\n",
    "cov.dropna(inplace=True)\n",
    "cov.drop(columns=[\"sexe\"], inplace=True)\n",
    "cov.sort_index(inplace=True)\n",
    "cov.head(2)"
   ]
  },
  {
   "cell_type": "markdown",
   "metadata": {},
   "source": [
    "#### <br> Forecast with Prophet each department hosp time serie evolution"
   ]
  },
  {
   "cell_type": "code",
   "execution_count": 8,
   "metadata": {},
   "outputs": [
    {
     "name": "stdout",
     "output_type": "stream",
     "text": [
      "Forecast with data before:  2020-03-25 00:00:00\n"
     ]
    },
    {
     "data": {
      "text/html": [
       "<div>\n",
       "<style scoped>\n",
       "    .dataframe tbody tr th:only-of-type {\n",
       "        vertical-align: middle;\n",
       "    }\n",
       "\n",
       "    .dataframe tbody tr th {\n",
       "        vertical-align: top;\n",
       "    }\n",
       "\n",
       "    .dataframe thead th {\n",
       "        text-align: right;\n",
       "    }\n",
       "</style>\n",
       "<table border=\"1\" class=\"dataframe\">\n",
       "  <thead>\n",
       "    <tr style=\"text-align: right;\">\n",
       "      <th></th>\n",
       "      <th>hosp</th>\n",
       "      <th>dep</th>\n",
       "    </tr>\n",
       "    <tr>\n",
       "      <th>jour</th>\n",
       "      <th></th>\n",
       "      <th></th>\n",
       "    </tr>\n",
       "  </thead>\n",
       "  <tbody>\n",
       "    <tr>\n",
       "      <td>2020-03-26</td>\n",
       "      <td>28</td>\n",
       "      <td>01</td>\n",
       "    </tr>\n",
       "    <tr>\n",
       "      <td>2020-03-27</td>\n",
       "      <td>32</td>\n",
       "      <td>01</td>\n",
       "    </tr>\n",
       "    <tr>\n",
       "      <td>2020-03-28</td>\n",
       "      <td>36</td>\n",
       "      <td>01</td>\n",
       "    </tr>\n",
       "    <tr>\n",
       "      <td>2020-03-29</td>\n",
       "      <td>40</td>\n",
       "      <td>01</td>\n",
       "    </tr>\n",
       "    <tr>\n",
       "      <td>2020-03-30</td>\n",
       "      <td>44</td>\n",
       "      <td>01</td>\n",
       "    </tr>\n",
       "  </tbody>\n",
       "</table>\n",
       "</div>"
      ],
      "text/plain": [
       "            hosp dep\n",
       "jour                \n",
       "2020-03-26    28  01\n",
       "2020-03-27    32  01\n",
       "2020-03-28    36  01\n",
       "2020-03-29    40  01\n",
       "2020-03-30    44  01"
      ]
     },
     "execution_count": 8,
     "metadata": {},
     "output_type": "execute_result"
    }
   ],
   "source": [
    "latest_historical_day = cov.index.max()\n",
    "print(\"Forecast with data before: \", latest_historical_day)\n",
    "dep_df_list = []\n",
    "for dep in cov.dep.unique():\n",
    "    sdf = cov[cov[\"dep\"] == dep]\n",
    "    sdf = sdf[[\"hosp\"]]\n",
    "    sdf = sdf.reset_index()\n",
    "    sdf.rename(columns={\"jour\": \"ds\", \"hosp\": \"y\"}, inplace=True)\n",
    "    m = Prophet(changepoint_prior_scale=0.05)\n",
    "    m.fit(sdf)\n",
    "    future = m.make_future_dataframe(periods=nb_days)\n",
    "    after = m.predict(future)\n",
    "    after = after[[\"ds\", \"trend\"]]\n",
    "    after.rename(columns={\"ds\": \"jour\", \"trend\": \"hosp\"}, inplace=True)\n",
    "    after = after[after[\"jour\"] > latest_historical_day]\n",
    "    after.set_index(\"jour\", inplace=True)\n",
    "    after[\"hosp\"] = after[\"hosp\"].apply(np.int64)\n",
    "    after[\"dep\"] = dep\n",
    "    dep_df_list.append(after)\n",
    "\n",
    "future_cov = pd.concat(dep_df_list)\n",
    "future_cov.head()"
   ]
  },
  {
   "cell_type": "markdown",
   "metadata": {},
   "source": [
    "#### <br> Add geometry data to forecast COVID DataFrame"
   ]
  },
  {
   "cell_type": "code",
   "execution_count": 9,
   "metadata": {},
   "outputs": [],
   "source": [
    "future_cov[\"geometry\"] = future_cov[\"dep\"].map(met)"
   ]
  },
  {
   "cell_type": "markdown",
   "metadata": {},
   "source": [
    "#### <br> Parse days and save one image for each day"
   ]
  },
  {
   "cell_type": "code",
   "execution_count": 10,
   "metadata": {},
   "outputs": [],
   "source": [
    "def daterange(date1, date2):\n",
    "    for n in range(int((date2 - date1).days) + 1):\n",
    "        yield date1 + timedelta(n)"
   ]
  },
  {
   "cell_type": "code",
   "execution_count": 11,
   "metadata": {},
   "outputs": [],
   "source": [
    "vmax = cov.hosp.max()\n",
    "for i, dt in enumerate(daterange(future_cov.index.min(), future_cov.index.max())):\n",
    "    title = dt.strftime(\"%d-%b-%Y\")\n",
    "    df = future_cov.query(\"jour == @dt\")\n",
    "    df = df.drop_duplicates(subset=[\"dep\"], keep=\"first\")\n",
    "    img_name = \"img/\" + str(i) + \".png\"\n",
    "    save_img(df, title, img_name, 0, vmax)"
   ]
  },
  {
   "cell_type": "markdown",
   "metadata": {},
   "source": [
    "#### <br> Compile images in animated gif"
   ]
  },
  {
   "cell_type": "code",
   "execution_count": 12,
   "metadata": {},
   "outputs": [
    {
     "data": {
      "text/html": [
       "<img src='forecastcovid.gif'>"
      ],
      "text/plain": [
       "<IPython.core.display.HTML object>"
      ]
     },
     "execution_count": 12,
     "metadata": {},
     "output_type": "execute_result"
    }
   ],
   "source": [
    "frames = []\n",
    "for i, dt in enumerate(daterange(future_cov.index.min(), future_cov.index.max())):\n",
    "    name = \"img/\" + str(i) + \".png\"\n",
    "    frames.append(Image.open(name))\n",
    "\n",
    "frames[0].save(\n",
    "    \"forecastcovid.gif\",\n",
    "    format=\"GIF\",\n",
    "    append_images=frames[1:],\n",
    "    save_all=True,\n",
    "    duration=frame_duration,\n",
    "    loop=0,\n",
    ")\n",
    "\n",
    "from IPython.display import HTML\n",
    "\n",
    "HTML(\"<img src='forecastcovid.gif'>\")"
   ]
  }
 ],
 "metadata": {
  "kernelspec": {
   "display_name": "Python 3",
   "language": "python",
   "name": "python3"
  },
  "language_info": {
   "codemirror_mode": {
    "name": "ipython",
    "version": 3
   },
   "file_extension": ".py",
   "mimetype": "text/x-python",
   "name": "python",
   "nbconvert_exporter": "python",
   "pygments_lexer": "ipython3",
   "version": "3.7.4"
  }
 },
 "nbformat": 4,
 "nbformat_minor": 4
}
